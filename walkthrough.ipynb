{
 "cells": [
  {
   "cell_type": "markdown",
   "id": "474560b5",
   "metadata": {},
   "source": [
    "# Efficient Neural Causal Discovery without Acyclicity Constraints\n",
    "\n",
    "This notebook is intended to give an overview of the functionalities in this repository. We recommend to go through this notebook if you are interested in working with this repository."
   ]
  },
  {
   "cell_type": "markdown",
   "id": "de404975",
   "metadata": {},
   "source": [
    "## Preparation\n",
    "\n",
    "This part is only needed when you are running on Google Colab. We clone the repo to have access to the python files. In case you run this notebook locally, this step will be automatically skipped."
   ]
  },
  {
   "cell_type": "code",
   "execution_count": 1,
   "id": "9f38e14a",
   "metadata": {},
   "outputs": [],
   "source": [
    "import os\n",
    "import sys\n",
    "\n",
    "if not os.path.isdir('causal_graphs/'):\n",
    "    print(\"Cloning the repository...\")\n",
    "    !git clone https://github.com/anony192847385/ICLR2022_Paper657\n",
    "    sys.path.append('ICLR2022_Paper657/')"
   ]
  },
  {
   "cell_type": "markdown",
   "id": "bb0e2df3",
   "metadata": {},
   "source": [
    "For nicer visualizations, we import matplotlib with inline arguments. Additionally, we import PyTorch and Numpy on which the ENCO implementation is based on."
   ]
  },
  {
   "cell_type": "code",
   "execution_count": 2,
   "id": "ee6e1c95",
   "metadata": {},
   "outputs": [],
   "source": [
    "import matplotlib.pyplot as plt\n",
    "%matplotlib inline\n",
    "from matplotlib_inline.backend_inline import set_matplotlib_formats\n",
    "set_matplotlib_formats('svg', 'pdf')\n",
    "\n",
    "import torch\n",
    "import numpy as np"
   ]
  },
  {
   "cell_type": "markdown",
   "id": "2892eb4b",
   "metadata": {},
   "source": [
    "## Causal Graphs\n",
    "\n",
    "First, we take a look at how we can generate causal graphs and interact with them. All functionalities for this purpose have been summarized in the folder `causal_graphs`, and we import the most important functions below."
   ]
  },
  {
   "cell_type": "code",
   "execution_count": 3,
   "id": "a60c7918",
   "metadata": {},
   "outputs": [],
   "source": [
    "from causal_graphs.graph_definition import CausalDAG  # Base class of causal graphs\n",
    "from causal_graphs.graph_generation import generate_categorical_graph, get_graph_func  # Functions for generating new graphs\n",
    "from causal_graphs.graph_visualization import visualize_graph  # Plotting the graph in matplotlib"
   ]
  },
  {
   "cell_type": "markdown",
   "id": "70d54607",
   "metadata": {},
   "source": [
    "Every graph is represented as a `CausalDAG` object that contains a list of variables and an adjacency matrix/edge list to represent the graph structure. The conditional distributions are part of the variable objects. To sample a new data point, we iterate through the variables in the causal order and sample one by one. To demonstrate this, let us first generate an arbitrary graph. This can be done with the `generate_categorical_graph` function, and we can specify the desired graph structure with `get_graph_func`:"
   ]
  },
  {
   "cell_type": "code",
   "execution_count": 4,
   "id": "5919b48d",
   "metadata": {},
   "outputs": [],
   "source": [
    "graph = generate_categorical_graph(num_vars=8, \n",
    "                                   min_categs=10,\n",
    "                                   max_categs=10,\n",
    "                                   graph_func=get_graph_func('random'),\n",
    "                                   edge_prob=0.4,\n",
    "                                   seed=42)"
   ]
  },
  {
   "cell_type": "markdown",
   "id": "72269f8f",
   "metadata": {},
   "source": [
    "This function call creates a new graph with 8 variables, each having a distribution over 10 categories, and the graph structure is generated randomly by sampling an edge between any pair of variables with a probability of 0.4. The seed ensures that the graph generation is reproducible. To generate other graph structures, simply replace the string `'random'` by e.g. `'chain'` or `'jungle'`.\n",
    "\n",
    "To get an intuition of what the graph actually looks like, we can print it:"
   ]
  },
  {
   "cell_type": "code",
   "execution_count": 5,
   "id": "7945ceff",
   "metadata": {},
   "outputs": [
    {
     "name": "stdout",
     "output_type": "stream",
     "text": [
      "CausalDAG with 8 variables [D,E,G,H,C,F,A,B] and 10 edges:\n",
      "D => E,G,B\n",
      "E => H,C\n",
      "G => C\n",
      "H => F,A\n",
      "C => A\n",
      "A => B\n",
      "\n"
     ]
    }
   ],
   "source": [
    "print(graph)"
   ]
  },
  {
   "cell_type": "markdown",
   "id": "c8dee176",
   "metadata": {},
   "source": [
    "The variables are named alphabetically, and we have 10 edges. The edges are listed below the first line, e.g., we have an edge from D to E, and an edge from D to G. Alternatively, we can also plot the graph with matplotlib: "
   ]
  },
  {
   "cell_type": "code",
   "execution_count": 6,
   "id": "059c48ba",
   "metadata": {},
   "outputs": [
    {
     "data": {
      "application/pdf": "[encoded data removed]",
      "image/svg+xml": [
       "<?xml version=\"1.0\" encoding=\"utf-8\" standalone=\"no\"?>\n",
       "<!DOCTYPE svg PUBLIC \"-//W3C//DTD SVG 1.1//EN\"\n",
       "  \"http://www.w3.org/Graphics/SVG/1.1/DTD/svg11.dtd\">\n",
       "<!-- Created with matplotlib (https://matplotlib.org/) -->\n",
       "<svg height=\"302.4pt\" version=\"1.1\" viewBox=\"0 0 302.4 302.4\" width=\"302.4pt\" xmlns=\"http://www.w3.org/2000/svg\" xmlns:xlink=\"http://www.w3.org/1999/xlink\">\n",
       " <metadata>\n",
       "  <rdf:RDF xmlns:cc=\"http://creativecommons.org/ns#\" xmlns:dc=\"http://purl.org/dc/elements/1.1/\" xmlns:rdf=\"http://www.w3.org/1999/02/22-rdf-syntax-ns#\">\n",
       "   <cc:Work>\n",
       "    <dc:type rdf:resource=\"http://purl.org/dc/dcmitype/StillImage\"/>\n",
       "    <dc:date>2021-10-03T22:27:52.401577</dc:date>\n",
       "    <dc:format>image/svg+xml</dc:format>\n",
       "    <dc:creator>\n",
       "     <cc:Agent>\n",
       "      <dc:title>Matplotlib v3.3.4, https://matplotlib.org/</dc:title>\n",
       "     </cc:Agent>\n",
       "    </dc:creator>\n",
       "   </cc:Work>\n",
       "  </rdf:RDF>\n",
       " </metadata>\n",
       " <defs>\n",
       "  <style type=\"text/css\">*{stroke-linecap:butt;stroke-linejoin:round;}</style>\n",
       " </defs>\n",
       " <g id=\"figure_1\">\n",
       "  <g id=\"patch_1\">\n",
       "   <path d=\"M 0 302.4 \n",
       "L 302.4 302.4 \n",
       "L 302.4 0 \n",
       "L 0 0 \n",
       "z\n",
       "\" style=\"fill:#ffffff;\"/>\n",
       "  </g>\n",
       "  <g id=\"axes_1\">\n",
       "   <g id=\"patch_2\">\n",
       "    <path clip-path=\"url(#p83bc62572c)\" d=\"M 193.712385 36.173145 \n",
       "Q 118.74266 61.943987 44.830245 87.35138 \n",
       "\" style=\"fill:none;stroke:#000000;stroke-linecap:round;\"/>\n",
       "    <path clip-path=\"url(#p83bc62572c)\" d=\"M 51.922895 88.297067 \n",
       "L 44.830245 87.35138 \n",
       "L 49.842384 82.244672 \n",
       "L 51.922895 88.297067 \n",
       "z\n",
       "\" style=\"stroke:#000000;stroke-linecap:round;\"/>\n",
       "   </g>\n",
       "   <g id=\"patch_3\">\n",
       "    <path clip-path=\"url(#p83bc62572c)\" d=\"M 205.294666 44.441945 \n",
       "Q 205.294666 61.944413 205.294666 78.328846 \n",
       "\" style=\"fill:none;stroke:#000000;stroke-linecap:round;\"/>\n",
       "    <path clip-path=\"url(#p83bc62572c)\" d=\"M 208.494666 71.928846 \n",
       "L 205.294666 78.328846 \n",
       "L 202.094666 71.928846 \n",
       "L 208.494666 71.928846 \n",
       "z\n",
       "\" style=\"stroke:#000000;stroke-linecap:round;\"/>\n",
       "   </g>\n",
       "   <g id=\"patch_4\">\n",
       "    <path clip-path=\"url(#p83bc62572c)\" d=\"M 208.516772 44.006124 \n",
       "Q 237.751419 151.199831 266.691892 257.314899 \n",
       "\" style=\"fill:none;stroke:#000000;stroke-linecap:round;\"/>\n",
       "    <path clip-path=\"url(#p83bc62572c)\" d=\"M 268.095185 250.298435 \n",
       "L 266.691892 257.314899 \n",
       "L 261.920696 251.982386 \n",
       "L 268.095185 250.298435 \n",
       "z\n",
       "\" style=\"stroke:#000000;stroke-linecap:round;\"/>\n",
       "   </g>\n",
       "   <g id=\"patch_5\">\n",
       "    <path clip-path=\"url(#p83bc62572c)\" d=\"M 32.191736 103.946078 \n",
       "Q 32.191736 121.448545 32.191736 137.832979 \n",
       "\" style=\"fill:none;stroke:#000000;stroke-linecap:round;\"/>\n",
       "    <path clip-path=\"url(#p83bc62572c)\" d=\"M 35.391736 131.432979 \n",
       "L 32.191736 137.832979 \n",
       "L 28.991736 131.432979 \n",
       "L 35.391736 131.432979 \n",
       "z\n",
       "\" style=\"stroke:#000000;stroke-linecap:round;\"/>\n",
       "   </g>\n",
       "   <g id=\"patch_6\">\n",
       "    <path clip-path=\"url(#p83bc62572c)\" d=\"M 43.774016 95.677277 \n",
       "Q 118.743741 121.44812 192.656156 146.855512 \n",
       "\" style=\"fill:none;stroke:#000000;stroke-linecap:round;\"/>\n",
       "    <path clip-path=\"url(#p83bc62572c)\" d=\"M 187.644017 141.748805 \n",
       "L 192.656156 146.855512 \n",
       "L 185.563506 147.801199 \n",
       "L 187.644017 141.748805 \n",
       "z\n",
       "\" style=\"stroke:#000000;stroke-linecap:round;\"/>\n",
       "   </g>\n",
       "   <g id=\"patch_7\">\n",
       "    <path clip-path=\"url(#p83bc62572c)\" d=\"M 205.294666 103.946078 \n",
       "Q 205.294666 121.448545 205.294666 137.832979 \n",
       "\" style=\"fill:none;stroke:#000000;stroke-linecap:round;\"/>\n",
       "    <path clip-path=\"url(#p83bc62572c)\" d=\"M 208.494666 131.432979 \n",
       "L 205.294666 137.832979 \n",
       "L 202.094666 131.432979 \n",
       "L 208.494666 131.432979 \n",
       "z\n",
       "\" style=\"stroke:#000000;stroke-linecap:round;\"/>\n",
       "   </g>\n",
       "   <g id=\"patch_8\">\n",
       "    <path clip-path=\"url(#p83bc62572c)\" d=\"M 32.191736 163.45021 \n",
       "Q 32.191736 180.952677 32.191736 197.337111 \n",
       "\" style=\"fill:none;stroke:#000000;stroke-linecap:round;\"/>\n",
       "    <path clip-path=\"url(#p83bc62572c)\" d=\"M 35.391736 190.937111 \n",
       "L 32.191736 197.337111 \n",
       "L 28.991736 190.937111 \n",
       "L 35.391736 190.937111 \n",
       "z\n",
       "\" style=\"stroke:#000000;stroke-linecap:round;\"/>\n",
       "   </g>\n",
       "   <g id=\"patch_9\">\n",
       "    <path clip-path=\"url(#p83bc62572c)\" d=\"M 43.774016 155.181409 \n",
       "Q 118.743741 180.952252 192.656156 206.359644 \n",
       "\" style=\"fill:none;stroke:#000000;stroke-linecap:round;\"/>\n",
       "    <path clip-path=\"url(#p83bc62572c)\" d=\"M 187.644017 201.252937 \n",
       "L 192.656156 206.359644 \n",
       "L 185.563506 207.305331 \n",
       "L 187.644017 201.252937 \n",
       "z\n",
       "\" style=\"stroke:#000000;stroke-linecap:round;\"/>\n",
       "   </g>\n",
       "   <g id=\"patch_10\">\n",
       "    <path clip-path=\"url(#p83bc62572c)\" d=\"M 205.294666 163.45021 \n",
       "Q 205.294666 180.952677 205.294666 197.337111 \n",
       "\" style=\"fill:none;stroke:#000000;stroke-linecap:round;\"/>\n",
       "    <path clip-path=\"url(#p83bc62572c)\" d=\"M 208.494666 190.937111 \n",
       "L 205.294666 197.337111 \n",
       "L 202.094666 190.937111 \n",
       "L 208.494666 190.937111 \n",
       "z\n",
       "\" style=\"stroke:#000000;stroke-linecap:round;\"/>\n",
       "   </g>\n",
       "   <g id=\"patch_11\">\n",
       "    <path clip-path=\"url(#p83bc62572c)\" d=\"M 214.322109 218.979289 \n",
       "Q 237.750702 240.455498 260.355131 261.176225 \n",
       "\" style=\"fill:none;stroke:#000000;stroke-linecap:round;\"/>\n",
       "    <path clip-path=\"url(#p83bc62572c)\" d=\"M 257.799663 254.492694 \n",
       "L 260.355131 261.176225 \n",
       "L 253.475025 259.210481 \n",
       "L 257.799663 254.492694 \n",
       "z\n",
       "\" style=\"stroke:#000000;stroke-linecap:round;\"/>\n",
       "   </g>\n",
       "   <g id=\"PathCollection_1\">\n",
       "    <defs>\n",
       "     <path d=\"M 0 12.247449 \n",
       "C 3.248061 12.247449 6.363528 10.95698 8.660254 8.660254 \n",
       "C 10.95698 6.363528 12.247449 3.248061 12.247449 0 \n",
       "C 12.247449 -3.248061 10.95698 -6.363528 8.660254 -8.660254 \n",
       "C 6.363528 -10.95698 3.248061 -12.247449 0 -12.247449 \n",
       "C -3.248061 -12.247449 -6.363528 -10.95698 -8.660254 -8.660254 \n",
       "C -10.95698 -6.363528 -12.247449 -3.248061 -12.247449 0 \n",
       "C -12.247449 3.248061 -10.95698 6.363528 -8.660254 8.660254 \n",
       "C -6.363528 10.95698 -3.248061 12.247449 0 12.247449 \n",
       "z\n",
       "\" id=\"m184b0b9347\" style=\"stroke:#000000;\"/>\n",
       "    </defs>\n",
       "    <g clip-path=\"url(#p83bc62572c)\">\n",
       "     <use style=\"fill:#d3d3d3;stroke:#000000;\" x=\"205.294666\" xlink:href=\"#m184b0b9347\" y=\"32.191736\"/>\n",
       "     <use style=\"fill:#d3d3d3;stroke:#000000;\" x=\"32.191736\" xlink:href=\"#m184b0b9347\" y=\"91.695868\"/>\n",
       "     <use style=\"fill:#d3d3d3;stroke:#000000;\" x=\"205.294666\" xlink:href=\"#m184b0b9347\" y=\"91.695868\"/>\n",
       "     <use style=\"fill:#d3d3d3;stroke:#000000;\" x=\"32.191736\" xlink:href=\"#m184b0b9347\" y=\"151.2\"/>\n",
       "     <use style=\"fill:#d3d3d3;stroke:#000000;\" x=\"205.294666\" xlink:href=\"#m184b0b9347\" y=\"151.2\"/>\n",
       "     <use style=\"fill:#d3d3d3;stroke:#000000;\" x=\"32.191736\" xlink:href=\"#m184b0b9347\" y=\"210.704132\"/>\n",
       "     <use style=\"fill:#d3d3d3;stroke:#000000;\" x=\"205.294666\" xlink:href=\"#m184b0b9347\" y=\"210.704132\"/>\n",
       "     <use style=\"fill:#d3d3d3;stroke:#000000;\" x=\"270.208264\" xlink:href=\"#m184b0b9347\" y=\"270.208264\"/>\n",
       "    </g>\n",
       "   </g>\n",
       "   <g id=\"text_1\">\n",
       "    <g clip-path=\"url(#p83bc62572c)\">\n",
       "     <!-- D -->\n",
       "     <g transform=\"translate(200.313728 35.502986)scale(0.12 -0.12)\">\n",
       "      <defs>\n",
       "       <path d=\"M 27.984375 58.6875 \n",
       "L 27.984375 14.203125 \n",
       "L 34.71875 14.203125 \n",
       "Q 46.234375 14.203125 52.3125 19.921875 \n",
       "Q 58.40625 25.640625 58.40625 36.53125 \n",
       "Q 58.40625 47.359375 52.34375 53.015625 \n",
       "Q 46.296875 58.6875 34.71875 58.6875 \n",
       "z\n",
       "M 9.1875 72.90625 \n",
       "L 29 72.90625 \n",
       "Q 45.609375 72.90625 53.734375 70.53125 \n",
       "Q 61.859375 68.171875 67.671875 62.5 \n",
       "Q 72.796875 57.5625 75.28125 51.109375 \n",
       "Q 77.78125 44.671875 77.78125 36.53125 \n",
       "Q 77.78125 28.265625 75.28125 21.796875 \n",
       "Q 72.796875 15.328125 67.671875 10.40625 \n",
       "Q 61.8125 4.734375 53.609375 2.359375 \n",
       "Q 45.40625 0 29 0 \n",
       "L 9.1875 0 \n",
       "z\n",
       "\" id=\"DejaVuSans-Bold-68\"/>\n",
       "      </defs>\n",
       "      <use xlink:href=\"#DejaVuSans-Bold-68\"/>\n",
       "     </g>\n",
       "    </g>\n",
       "   </g>\n",
       "   <g id=\"text_2\">\n",
       "    <g clip-path=\"url(#p83bc62572c)\">\n",
       "     <!-- E -->\n",
       "     <g transform=\"translate(28.092986 95.007118)scale(0.12 -0.12)\">\n",
       "      <defs>\n",
       "       <path d=\"M 9.1875 72.90625 \n",
       "L 59.90625 72.90625 \n",
       "L 59.90625 58.6875 \n",
       "L 27.984375 58.6875 \n",
       "L 27.984375 45.125 \n",
       "L 58.015625 45.125 \n",
       "L 58.015625 30.90625 \n",
       "L 27.984375 30.90625 \n",
       "L 27.984375 14.203125 \n",
       "L 60.984375 14.203125 \n",
       "L 60.984375 0 \n",
       "L 9.1875 0 \n",
       "z\n",
       "\" id=\"DejaVuSans-Bold-69\"/>\n",
       "      </defs>\n",
       "      <use xlink:href=\"#DejaVuSans-Bold-69\"/>\n",
       "     </g>\n",
       "    </g>\n",
       "   </g>\n",
       "   <g id=\"text_3\">\n",
       "    <g clip-path=\"url(#p83bc62572c)\">\n",
       "     <!-- G -->\n",
       "     <g transform=\"translate(200.369978 95.007118)scale(0.12 -0.12)\">\n",
       "      <defs>\n",
       "       <path d=\"M 74.703125 5.421875 \n",
       "Q 67.671875 2 60.109375 0.28125 \n",
       "Q 52.546875 -1.421875 44.484375 -1.421875 \n",
       "Q 26.265625 -1.421875 15.625 8.765625 \n",
       "Q 4.984375 18.953125 4.984375 36.375 \n",
       "Q 4.984375 54 15.8125 64.109375 \n",
       "Q 26.65625 74.21875 45.515625 74.21875 \n",
       "Q 52.78125 74.21875 59.4375 72.84375 \n",
       "Q 66.109375 71.484375 72.015625 68.796875 \n",
       "L 72.015625 53.71875 \n",
       "Q 65.921875 57.171875 59.890625 58.875 \n",
       "Q 53.859375 60.59375 47.796875 60.59375 \n",
       "Q 36.578125 60.59375 30.5 54.3125 \n",
       "Q 24.421875 48.046875 24.421875 36.375 \n",
       "Q 24.421875 24.8125 30.28125 18.5 \n",
       "Q 36.140625 12.203125 46.921875 12.203125 \n",
       "Q 49.859375 12.203125 52.375 12.5625 \n",
       "Q 54.890625 12.9375 56.890625 13.71875 \n",
       "L 56.890625 27.875 \n",
       "L 45.40625 27.875 \n",
       "L 45.40625 40.484375 \n",
       "L 74.703125 40.484375 \n",
       "z\n",
       "\" id=\"DejaVuSans-Bold-71\"/>\n",
       "      </defs>\n",
       "      <use xlink:href=\"#DejaVuSans-Bold-71\"/>\n",
       "     </g>\n",
       "    </g>\n",
       "   </g>\n",
       "   <g id=\"text_4\">\n",
       "    <g clip-path=\"url(#p83bc62572c)\">\n",
       "     <!-- H -->\n",
       "     <g transform=\"translate(27.170486 154.51125)scale(0.12 -0.12)\">\n",
       "      <defs>\n",
       "       <path d=\"M 9.1875 72.90625 \n",
       "L 27.984375 72.90625 \n",
       "L 27.984375 45.125 \n",
       "L 55.71875 45.125 \n",
       "L 55.71875 72.90625 \n",
       "L 74.515625 72.90625 \n",
       "L 74.515625 0 \n",
       "L 55.71875 0 \n",
       "L 55.71875 30.90625 \n",
       "L 27.984375 30.90625 \n",
       "L 27.984375 0 \n",
       "L 9.1875 0 \n",
       "z\n",
       "\" id=\"DejaVuSans-Bold-72\"/>\n",
       "      </defs>\n",
       "      <use xlink:href=\"#DejaVuSans-Bold-72\"/>\n",
       "     </g>\n",
       "    </g>\n",
       "   </g>\n",
       "   <g id=\"text_5\">\n",
       "    <g clip-path=\"url(#p83bc62572c)\">\n",
       "     <!-- C -->\n",
       "     <g transform=\"translate(200.891228 154.51125)scale(0.12 -0.12)\">\n",
       "      <defs>\n",
       "       <path d=\"M 67 4 \n",
       "Q 61.8125 1.3125 56.203125 -0.046875 \n",
       "Q 50.59375 -1.421875 44.484375 -1.421875 \n",
       "Q 26.265625 -1.421875 15.625 8.765625 \n",
       "Q 4.984375 18.953125 4.984375 36.375 \n",
       "Q 4.984375 53.859375 15.625 64.03125 \n",
       "Q 26.265625 74.21875 44.484375 74.21875 \n",
       "Q 50.59375 74.21875 56.203125 72.84375 \n",
       "Q 61.8125 71.484375 67 68.796875 \n",
       "L 67 53.71875 \n",
       "Q 61.765625 57.28125 56.6875 58.9375 \n",
       "Q 51.609375 60.59375 46 60.59375 \n",
       "Q 35.9375 60.59375 30.171875 54.140625 \n",
       "Q 24.421875 47.703125 24.421875 36.375 \n",
       "Q 24.421875 25.09375 30.171875 18.640625 \n",
       "Q 35.9375 12.203125 46 12.203125 \n",
       "Q 51.609375 12.203125 56.6875 13.859375 \n",
       "Q 61.765625 15.53125 67 19.09375 \n",
       "z\n",
       "\" id=\"DejaVuSans-Bold-67\"/>\n",
       "      </defs>\n",
       "      <use xlink:href=\"#DejaVuSans-Bold-67\"/>\n",
       "     </g>\n",
       "    </g>\n",
       "   </g>\n",
       "   <g id=\"text_6\">\n",
       "    <g clip-path=\"url(#p83bc62572c)\">\n",
       "     <!-- F -->\n",
       "     <g transform=\"translate(28.092986 214.015382)scale(0.12 -0.12)\">\n",
       "      <defs>\n",
       "       <path d=\"M 9.1875 72.90625 \n",
       "L 59.90625 72.90625 \n",
       "L 59.90625 58.6875 \n",
       "L 27.984375 58.6875 \n",
       "L 27.984375 45.125 \n",
       "L 58.015625 45.125 \n",
       "L 58.015625 30.90625 \n",
       "L 27.984375 30.90625 \n",
       "L 27.984375 0 \n",
       "L 9.1875 0 \n",
       "z\n",
       "\" id=\"DejaVuSans-Bold-70\"/>\n",
       "      </defs>\n",
       "      <use xlink:href=\"#DejaVuSans-Bold-70\"/>\n",
       "     </g>\n",
       "    </g>\n",
       "   </g>\n",
       "   <g id=\"text_7\">\n",
       "    <g clip-path=\"url(#p83bc62572c)\">\n",
       "     <!-- A -->\n",
       "     <g transform=\"translate(200.651228 214.015382)scale(0.12 -0.12)\">\n",
       "      <defs>\n",
       "       <path d=\"M 53.421875 13.28125 \n",
       "L 24.03125 13.28125 \n",
       "L 19.390625 0 \n",
       "L 0.484375 0 \n",
       "L 27.484375 72.90625 \n",
       "L 49.90625 72.90625 \n",
       "L 76.90625 0 \n",
       "L 58.015625 0 \n",
       "z\n",
       "M 28.71875 26.8125 \n",
       "L 48.6875 26.8125 \n",
       "L 38.71875 55.8125 \n",
       "z\n",
       "\" id=\"DejaVuSans-Bold-65\"/>\n",
       "      </defs>\n",
       "      <use xlink:href=\"#DejaVuSans-Bold-65\"/>\n",
       "     </g>\n",
       "    </g>\n",
       "   </g>\n",
       "   <g id=\"text_8\">\n",
       "    <g clip-path=\"url(#p83bc62572c)\">\n",
       "     <!-- B -->\n",
       "     <g transform=\"translate(265.635139 273.519514)scale(0.12 -0.12)\">\n",
       "      <defs>\n",
       "       <path d=\"M 38.375 44.671875 \n",
       "Q 42.828125 44.671875 45.109375 46.625 \n",
       "Q 47.40625 48.578125 47.40625 52.390625 \n",
       "Q 47.40625 56.15625 45.109375 58.125 \n",
       "Q 42.828125 60.109375 38.375 60.109375 \n",
       "L 27.984375 60.109375 \n",
       "L 27.984375 44.671875 \n",
       "z\n",
       "M 39.015625 12.796875 \n",
       "Q 44.671875 12.796875 47.53125 15.1875 \n",
       "Q 50.390625 17.578125 50.390625 22.40625 \n",
       "Q 50.390625 27.15625 47.5625 29.515625 \n",
       "Q 44.734375 31.890625 39.015625 31.890625 \n",
       "L 27.984375 31.890625 \n",
       "L 27.984375 12.796875 \n",
       "z\n",
       "M 56.5 39.015625 \n",
       "Q 62.546875 37.25 65.859375 32.515625 \n",
       "Q 69.1875 27.78125 69.1875 20.90625 \n",
       "Q 69.1875 10.359375 62.0625 5.171875 \n",
       "Q 54.9375 0 40.375 0 \n",
       "L 9.1875 0 \n",
       "L 9.1875 72.90625 \n",
       "L 37.40625 72.90625 \n",
       "Q 52.59375 72.90625 59.40625 68.3125 \n",
       "Q 66.21875 63.71875 66.21875 53.609375 \n",
       "Q 66.21875 48.296875 63.71875 44.5625 \n",
       "Q 61.234375 40.828125 56.5 39.015625 \n",
       "z\n",
       "\" id=\"DejaVuSans-Bold-66\"/>\n",
       "      </defs>\n",
       "      <use xlink:href=\"#DejaVuSans-Bold-66\"/>\n",
       "     </g>\n",
       "    </g>\n",
       "   </g>\n",
       "  </g>\n",
       " </g>\n",
       " <defs>\n",
       "  <clipPath id=\"p83bc62572c\">\n",
       "   <rect height=\"288\" width=\"288\" x=\"7.2\" y=\"7.2\"/>\n",
       "  </clipPath>\n",
       " </defs>\n",
       "</svg>\n"
      ],
      "text/plain": [
       "<Figure size 288x288 with 1 Axes>"
      ]
     },
     "metadata": {},
     "output_type": "display_data"
    }
   ],
   "source": [
    "visualize_graph(graph, figsize=(4, 4), show_plot=True)"
   ]
  },
  {
   "cell_type": "markdown",
   "id": "c444adf9",
   "metadata": {},
   "source": [
    "To sample from a graph, we use the function `CausalDAG.sample`:"
   ]
  },
  {
   "cell_type": "code",
   "execution_count": 7,
   "id": "7010ac9a",
   "metadata": {},
   "outputs": [
    {
     "data": {
      "text/plain": [
       "{'D': array([8]),\n",
       " 'E': array([7]),\n",
       " 'G': array([6]),\n",
       " 'H': array([8]),\n",
       " 'C': array([6]),\n",
       " 'F': array([4]),\n",
       " 'A': array([0]),\n",
       " 'B': array([3])}"
      ]
     },
     "execution_count": 7,
     "metadata": {},
     "output_type": "execute_result"
    }
   ],
   "source": [
    "graph.sample()"
   ]
  },
  {
   "cell_type": "markdown",
   "id": "f144f091",
   "metadata": {},
   "source": [
    "Sampling with interventions is supported by passing a dictionary with the intended interventions. The interventions can be imperfect, i.e. a new distribution, or perfect, i.e. constant values. We demonstrate here a perfect intervention on the variable C:"
   ]
  },
  {
   "cell_type": "code",
   "execution_count": 8,
   "id": "0ed9189e",
   "metadata": {},
   "outputs": [
    {
     "data": {
      "text/plain": [
       "{'D': array([8]),\n",
       " 'E': array([4]),\n",
       " 'G': array([6]),\n",
       " 'H': array([1]),\n",
       " 'C': array([0]),\n",
       " 'F': array([4]),\n",
       " 'A': array([0]),\n",
       " 'B': array([9])}"
      ]
     },
     "execution_count": 8,
     "metadata": {},
     "output_type": "execute_result"
    }
   ],
   "source": [
    "graph.sample(interventions={'C': np.array([0])})"
   ]
  },
  {
   "cell_type": "markdown",
   "id": "1b50b683",
   "metadata": {},
   "source": [
    "Graphs can be saved and loaded with the function `save_to_file` and `CausalDAG.load_from_file`. To save the graph as a set of observational and interventional dataset, you can use the function `export_graph` from `graph_export.py`. We used this functionality to export the data to apply other causal discovery methods on. Graphs in the `.bif` format, as from the BnLearn repository, can be loaded via the function `load_graph_file` in `graph_real_world.py`."
   ]
  },
  {
   "cell_type": "markdown",
   "id": "cf5c9b42",
   "metadata": {},
   "source": [
    "## Causal Discovery with ENCO\n",
    "\n",
    "The graph objects explained above are used to implement the structure learning with ENCO in the folder `causal_discovery`. To run ENCO on such a graph, we simply need to create an `ENCO` object, and run the structure learning via the `discover_graph` function:"
   ]
  },
  {
   "cell_type": "code",
   "execution_count": 9,
   "id": "d1453a8f",
   "metadata": {},
   "outputs": [],
   "source": [
    "from causal_discovery.enco import ENCO"
   ]
  },
  {
   "cell_type": "code",
   "execution_count": 10,
   "id": "e9a0c6fc",
   "metadata": {},
   "outputs": [
    {
     "name": "stdout",
     "output_type": "stream",
     "text": [
      "Creating dataset...\n",
      "Dataset created in 0.01s\n",
      "Sampling interventional data...\n",
      "Done in 0.01s\n",
      "Distribution fitting model:\n",
      "MultivarMLP(\n",
      "  (layers): ModuleList(\n",
      "    (0): EmbedLayer(\n",
      "      (input_mask): InputMask()\n",
      "      (embedding): Embedding(640, 64)\n",
      "    )\n",
      "    (1): LeakyReLU(negative_slope=0.1, inplace=True)\n",
      "    (2): MultivarLinear(input_dims=64, output_dims=64, extra_dims=[8])\n",
      "    (3): LeakyReLU(negative_slope=0.1, inplace=True)\n",
      "    (4): MultivarLinear(input_dims=64, output_dims=10, extra_dims=[8])\n",
      "  )\n",
      ")\n",
      "Dataset size:\n",
      "- Observational: 5000\n",
      "- Interventional: 200\n"
     ]
    }
   ],
   "source": [
    "enco_module = ENCO(graph=graph)\n",
    "if torch.cuda.is_available():\n",
    "    enco_module.to(torch.device('cuda:0'))"
   ]
  },
  {
   "cell_type": "code",
   "execution_count": 11,
   "id": "b7941cd2",
   "metadata": {},
   "outputs": [
    {
     "data": {
      "application/vnd.jupyter.widget-view+json": {
       "model_id": "",
       "version_major": 2,
       "version_minor": 0
      },
      "text/plain": [
       "Epoch loop:   0%|          | 0/4 [00:00<?, ?it/s]"
      ]
     },
     "metadata": {},
     "output_type": "display_data"
    },
    {
     "data": {
      "application/vnd.jupyter.widget-view+json": {
       "model_id": "",
       "version_major": 2,
       "version_minor": 0
      },
      "text/plain": [
       "Distribution fitting loop:   0%|          | 0/1000 [00:00<?, ?it/s]"
      ]
     },
     "metadata": {},
     "output_type": "display_data"
    },
    {
     "data": {
      "application/vnd.jupyter.widget-view+json": {
       "model_id": "",
       "version_major": 2,
       "version_minor": 0
      },
      "text/plain": [
       "Graph fitting loop:   0%|          | 0/100 [00:00<?, ?it/s]"
      ]
     },
     "metadata": {},
     "output_type": "display_data"
    },
    {
     "name": "stdout",
     "output_type": "stream",
     "text": [
      "--- [EPOCH 1] ---\n",
      "Graph - SHD: 2, Recall: 100.00%, Precision: 83.33% (TP=10,FP=2,FN=0,TN=44)\n",
      "      -> FP: ancestors=1, descendants=1, confounders=0, independents=0\n",
      "Theta - Orientation accuracy: 100.00% (TP=10,FN=0)\n"
     ]
    },
    {
     "data": {
      "application/vnd.jupyter.widget-view+json": {
       "model_id": "",
       "version_major": 2,
       "version_minor": 0
      },
      "text/plain": [
       "Distribution fitting loop:   0%|          | 0/1000 [00:00<?, ?it/s]"
      ]
     },
     "metadata": {},
     "output_type": "display_data"
    },
    {
     "data": {
      "application/vnd.jupyter.widget-view+json": {
       "model_id": "",
       "version_major": 2,
       "version_minor": 0
      },
      "text/plain": [
       "Graph fitting loop:   0%|          | 0/100 [00:00<?, ?it/s]"
      ]
     },
     "metadata": {},
     "output_type": "display_data"
    },
    {
     "name": "stdout",
     "output_type": "stream",
     "text": [
      "--- [EPOCH 2] ---\n",
      "Graph - SHD: 1, Recall: 100.00%, Precision: 90.91% (TP=10,FP=1,FN=0,TN=45)\n",
      "      -> FP: ancestors=0, descendants=1, confounders=0, independents=0\n",
      "Theta - Orientation accuracy: 100.00% (TP=10,FN=0)\n"
     ]
    },
    {
     "data": {
      "application/vnd.jupyter.widget-view+json": {
       "model_id": "",
       "version_major": 2,
       "version_minor": 0
      },
      "text/plain": [
       "Distribution fitting loop:   0%|          | 0/1000 [00:00<?, ?it/s]"
      ]
     },
     "metadata": {},
     "output_type": "display_data"
    },
    {
     "data": {
      "application/vnd.jupyter.widget-view+json": {
       "model_id": "",
       "version_major": 2,
       "version_minor": 0
      },
      "text/plain": [
       "Graph fitting loop:   0%|          | 0/100 [00:00<?, ?it/s]"
      ]
     },
     "metadata": {},
     "output_type": "display_data"
    },
    {
     "name": "stdout",
     "output_type": "stream",
     "text": [
      "--- [EPOCH 3] ---\n",
      "Graph - SHD: 0, Recall: 100.00%, Precision: 100.00% (TP=10,FP=0,FN=0,TN=46)\n",
      "      -> FP: ancestors=0, descendants=0, confounders=0, independents=0\n",
      "Theta - Orientation accuracy: 100.00% (TP=10,FN=0)\n"
     ]
    },
    {
     "data": {
      "application/vnd.jupyter.widget-view+json": {
       "model_id": "",
       "version_major": 2,
       "version_minor": 0
      },
      "text/plain": [
       "Distribution fitting loop:   0%|          | 0/1000 [00:00<?, ?it/s]"
      ]
     },
     "metadata": {},
     "output_type": "display_data"
    },
    {
     "data": {
      "application/vnd.jupyter.widget-view+json": {
       "model_id": "",
       "version_major": 2,
       "version_minor": 0
      },
      "text/plain": [
       "Graph fitting loop:   0%|          | 0/100 [00:00<?, ?it/s]"
      ]
     },
     "metadata": {},
     "output_type": "display_data"
    },
    {
     "name": "stdout",
     "output_type": "stream",
     "text": [
      "--- [EPOCH 4] ---\n",
      "Graph - SHD: 0, Recall: 100.00%, Precision: 100.00% (TP=10,FP=0,FN=0,TN=46)\n",
      "      -> FP: ancestors=0, descendants=0, confounders=0, independents=0\n",
      "Theta - Orientation accuracy: 100.00% (TP=10,FN=0)\n"
     ]
    }
   ],
   "source": [
    "predicted_adj_matrix = enco_module.discover_graph(num_epochs=4)"
   ]
  },
  {
   "cell_type": "markdown",
   "id": "9987c707",
   "metadata": {},
   "source": [
    "After every epoch, the metrics of comparing the current prediction to the ground truth graph are printed out. In the case of the small graph we created above, ENCO finds the graph quite quickly. The return value is the predicted adjacency matrix, and can be passed to a new graph object if you want to visualize the prediction. Hyperparameters for the structure learning process can be passed to the ENCO object in the init-function. \n",
    "\n",
    "This completes the quick guide through the code. To run experiments on a larger scale, we recommend to use the python files provided in the `experiments` folder. Further, the commands to reproduce the experiments in the paper are provided in `experiments/run_scripts/`."
   ]
  }
 ],
 "metadata": {
  "kernelspec": {
   "display_name": "Python 3 (ipykernel)",
   "language": "python",
   "name": "python3"
  },
  "language_info": {
   "codemirror_mode": {
    "name": "ipython",
    "version": 3
   },
   "file_extension": ".py",
   "mimetype": "text/x-python",
   "name": "python",
   "nbconvert_exporter": "python",
   "pygments_lexer": "ipython3",
   "version": "3.8.2"
  }
 },
 "nbformat": 4,
 "nbformat_minor": 5
}
